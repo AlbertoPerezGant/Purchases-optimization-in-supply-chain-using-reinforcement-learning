{
  "nbformat": 4,
  "nbformat_minor": 0,
  "metadata": {
    "colab": {
      "provenance": [],
      "include_colab_link": true
    },
    "kernelspec": {
      "name": "python3",
      "display_name": "Python 3"
    },
    "language_info": {
      "name": "python"
    }
  },
  "cells": [
    {
      "cell_type": "markdown",
      "metadata": {
        "id": "view-in-github",
        "colab_type": "text"
      },
      "source": [
        "<a href=\"https://colab.research.google.com/github/AlbertoPerezGant/Purchases-optimization-in-supply-chain-using-reinforcement-learning/blob/main/Purchases_Optimization.ipynb\" target=\"_parent\"><img src=\"https://colab.research.google.com/assets/colab-badge.svg\" alt=\"Open In Colab\"/></a>"
      ]
    },
    {
      "cell_type": "markdown",
      "source": [
        "# 1. Introduction: Purchases optimization in inventory management."
      ],
      "metadata": {
        "id": "fc5mktu5EUS4"
      }
    },
    {
      "cell_type": "code",
      "source": [
        "from google.colab import drive\n",
        "drive.mount('/content/drive')"
      ],
      "metadata": {
        "id": "-NcMXR93Iy45",
        "colab": {
          "base_uri": "https://localhost:8080/"
        },
        "outputId": "28aa8f00-279a-46bc-8cfd-76da11b333c3"
      },
      "execution_count": null,
      "outputs": [
        {
          "output_type": "stream",
          "name": "stdout",
          "text": [
            "Drive already mounted at /content/drive; to attempt to forcibly remount, call drive.mount(\"/content/drive\", force_remount=True).\n"
          ]
        }
      ]
    },
    {
      "cell_type": "markdown",
      "source": [
        "In first place, libraries as gymnasium and stable_baseline3 are installed.\n",
        "\n",
        "> Añadir blockquote\n",
        "\n"
      ],
      "metadata": {
        "id": "6aDudOaUEjE4"
      }
    },
    {
      "cell_type": "code",
      "execution_count": null,
      "metadata": {
        "id": "mmX7b7F0D0oz",
        "colab": {
          "base_uri": "https://localhost:8080/"
        },
        "outputId": "10a10f43-56bc-423b-9d6e-2e217c0f00a0"
      },
      "outputs": [
        {
          "output_type": "stream",
          "name": "stdout",
          "text": [
            "Requirement already satisfied: gymnasium==0.29.1 in /usr/local/lib/python3.10/dist-packages (0.29.1)\n",
            "Requirement already satisfied: numpy>=1.21.0 in /usr/local/lib/python3.10/dist-packages (from gymnasium==0.29.1) (1.25.2)\n",
            "Requirement already satisfied: cloudpickle>=1.2.0 in /usr/local/lib/python3.10/dist-packages (from gymnasium==0.29.1) (2.2.1)\n",
            "Requirement already satisfied: typing-extensions>=4.3.0 in /usr/local/lib/python3.10/dist-packages (from gymnasium==0.29.1) (4.10.0)\n",
            "Requirement already satisfied: farama-notifications>=0.0.1 in /usr/local/lib/python3.10/dist-packages (from gymnasium==0.29.1) (0.0.4)\n",
            "Requirement already satisfied: stable_baselines3==2.2.1 in /usr/local/lib/python3.10/dist-packages (2.2.1)\n",
            "Requirement already satisfied: gymnasium<0.30,>=0.28.1 in /usr/local/lib/python3.10/dist-packages (from stable_baselines3==2.2.1) (0.29.1)\n",
            "Requirement already satisfied: numpy>=1.20 in /usr/local/lib/python3.10/dist-packages (from stable_baselines3==2.2.1) (1.25.2)\n",
            "Requirement already satisfied: torch>=1.13 in /usr/local/lib/python3.10/dist-packages (from stable_baselines3==2.2.1) (2.2.1+cu121)\n",
            "Requirement already satisfied: cloudpickle in /usr/local/lib/python3.10/dist-packages (from stable_baselines3==2.2.1) (2.2.1)\n",
            "Requirement already satisfied: pandas in /usr/local/lib/python3.10/dist-packages (from stable_baselines3==2.2.1) (1.5.3)\n",
            "Requirement already satisfied: matplotlib in /usr/local/lib/python3.10/dist-packages (from stable_baselines3==2.2.1) (3.7.1)\n",
            "Requirement already satisfied: typing-extensions>=4.3.0 in /usr/local/lib/python3.10/dist-packages (from gymnasium<0.30,>=0.28.1->stable_baselines3==2.2.1) (4.10.0)\n",
            "Requirement already satisfied: farama-notifications>=0.0.1 in /usr/local/lib/python3.10/dist-packages (from gymnasium<0.30,>=0.28.1->stable_baselines3==2.2.1) (0.0.4)\n",
            "Requirement already satisfied: filelock in /usr/local/lib/python3.10/dist-packages (from torch>=1.13->stable_baselines3==2.2.1) (3.13.3)\n",
            "Requirement already satisfied: sympy in /usr/local/lib/python3.10/dist-packages (from torch>=1.13->stable_baselines3==2.2.1) (1.12)\n",
            "Requirement already satisfied: networkx in /usr/local/lib/python3.10/dist-packages (from torch>=1.13->stable_baselines3==2.2.1) (3.2.1)\n",
            "Requirement already satisfied: jinja2 in /usr/local/lib/python3.10/dist-packages (from torch>=1.13->stable_baselines3==2.2.1) (3.1.3)\n",
            "Requirement already satisfied: fsspec in /usr/local/lib/python3.10/dist-packages (from torch>=1.13->stable_baselines3==2.2.1) (2023.6.0)\n",
            "Requirement already satisfied: nvidia-cuda-nvrtc-cu12==12.1.105 in /usr/local/lib/python3.10/dist-packages (from torch>=1.13->stable_baselines3==2.2.1) (12.1.105)\n",
            "Requirement already satisfied: nvidia-cuda-runtime-cu12==12.1.105 in /usr/local/lib/python3.10/dist-packages (from torch>=1.13->stable_baselines3==2.2.1) (12.1.105)\n",
            "Requirement already satisfied: nvidia-cuda-cupti-cu12==12.1.105 in /usr/local/lib/python3.10/dist-packages (from torch>=1.13->stable_baselines3==2.2.1) (12.1.105)\n",
            "Requirement already satisfied: nvidia-cudnn-cu12==8.9.2.26 in /usr/local/lib/python3.10/dist-packages (from torch>=1.13->stable_baselines3==2.2.1) (8.9.2.26)\n",
            "Requirement already satisfied: nvidia-cublas-cu12==12.1.3.1 in /usr/local/lib/python3.10/dist-packages (from torch>=1.13->stable_baselines3==2.2.1) (12.1.3.1)\n",
            "Requirement already satisfied: nvidia-cufft-cu12==11.0.2.54 in /usr/local/lib/python3.10/dist-packages (from torch>=1.13->stable_baselines3==2.2.1) (11.0.2.54)\n",
            "Requirement already satisfied: nvidia-curand-cu12==10.3.2.106 in /usr/local/lib/python3.10/dist-packages (from torch>=1.13->stable_baselines3==2.2.1) (10.3.2.106)\n",
            "Requirement already satisfied: nvidia-cusolver-cu12==11.4.5.107 in /usr/local/lib/python3.10/dist-packages (from torch>=1.13->stable_baselines3==2.2.1) (11.4.5.107)\n",
            "Requirement already satisfied: nvidia-cusparse-cu12==12.1.0.106 in /usr/local/lib/python3.10/dist-packages (from torch>=1.13->stable_baselines3==2.2.1) (12.1.0.106)\n",
            "Requirement already satisfied: nvidia-nccl-cu12==2.19.3 in /usr/local/lib/python3.10/dist-packages (from torch>=1.13->stable_baselines3==2.2.1) (2.19.3)\n",
            "Requirement already satisfied: nvidia-nvtx-cu12==12.1.105 in /usr/local/lib/python3.10/dist-packages (from torch>=1.13->stable_baselines3==2.2.1) (12.1.105)\n",
            "Requirement already satisfied: triton==2.2.0 in /usr/local/lib/python3.10/dist-packages (from torch>=1.13->stable_baselines3==2.2.1) (2.2.0)\n",
            "Requirement already satisfied: nvidia-nvjitlink-cu12 in /usr/local/lib/python3.10/dist-packages (from nvidia-cusolver-cu12==11.4.5.107->torch>=1.13->stable_baselines3==2.2.1) (12.4.99)\n",
            "Requirement already satisfied: contourpy>=1.0.1 in /usr/local/lib/python3.10/dist-packages (from matplotlib->stable_baselines3==2.2.1) (1.2.0)\n",
            "Requirement already satisfied: cycler>=0.10 in /usr/local/lib/python3.10/dist-packages (from matplotlib->stable_baselines3==2.2.1) (0.12.1)\n",
            "Requirement already satisfied: fonttools>=4.22.0 in /usr/local/lib/python3.10/dist-packages (from matplotlib->stable_baselines3==2.2.1) (4.50.0)\n",
            "Requirement already satisfied: kiwisolver>=1.0.1 in /usr/local/lib/python3.10/dist-packages (from matplotlib->stable_baselines3==2.2.1) (1.4.5)\n",
            "Requirement already satisfied: packaging>=20.0 in /usr/local/lib/python3.10/dist-packages (from matplotlib->stable_baselines3==2.2.1) (24.0)\n",
            "Requirement already satisfied: pillow>=6.2.0 in /usr/local/lib/python3.10/dist-packages (from matplotlib->stable_baselines3==2.2.1) (9.4.0)\n",
            "Requirement already satisfied: pyparsing>=2.3.1 in /usr/local/lib/python3.10/dist-packages (from matplotlib->stable_baselines3==2.2.1) (3.1.2)\n",
            "Requirement already satisfied: python-dateutil>=2.7 in /usr/local/lib/python3.10/dist-packages (from matplotlib->stable_baselines3==2.2.1) (2.8.2)\n",
            "Requirement already satisfied: pytz>=2020.1 in /usr/local/lib/python3.10/dist-packages (from pandas->stable_baselines3==2.2.1) (2023.4)\n",
            "Requirement already satisfied: six>=1.5 in /usr/local/lib/python3.10/dist-packages (from python-dateutil>=2.7->matplotlib->stable_baselines3==2.2.1) (1.16.0)\n",
            "Requirement already satisfied: MarkupSafe>=2.0 in /usr/local/lib/python3.10/dist-packages (from jinja2->torch>=1.13->stable_baselines3==2.2.1) (2.1.5)\n",
            "Requirement already satisfied: mpmath>=0.19 in /usr/local/lib/python3.10/dist-packages (from sympy->torch>=1.13->stable_baselines3==2.2.1) (1.3.0)\n"
          ]
        }
      ],
      "source": [
        "!pip install gymnasium==0.29.1\n",
        "!pip install stable_baselines3==2.2.1"
      ]
    },
    {
      "cell_type": "markdown",
      "source": [
        "# 2. Enviroment"
      ],
      "metadata": {
        "id": "iWXR0WY1E9EE"
      }
    },
    {
      "cell_type": "markdown",
      "source": [
        "First, build a random distribution of orders for a certain inventary."
      ],
      "metadata": {
        "id": "oFP0sYfqxB3D"
      }
    },
    {
      "cell_type": "code",
      "source": [
        "import numpy as np\n",
        "import matplotlib.pyplot as plt\n",
        "\n",
        "\n",
        "np.random.seed(0)\n",
        "demand_hist = []\n",
        "\n",
        "for i in range(52):\n",
        "\n",
        "    for j in range(4):\n",
        "        random_demand = np.random.normal(3, 1.5)\n",
        "\n",
        "        if random_demand < 0:\n",
        "            random_demand = 0\n",
        "\n",
        "        random_demand = np.round(random_demand)\n",
        "        demand_hist.append(random_demand)\n",
        "\n",
        "    random_demand = np.random.normal(6, 1)\n",
        "\n",
        "    if random_demand < 0:\n",
        "        random_demand = 0\n",
        "\n",
        "    random_demand = np.round(random_demand)\n",
        "    demand_hist.append(random_demand)\n",
        "\n",
        "    for j in range(2):\n",
        "        random_demand = np.random.normal(12, 2)\n",
        "\n",
        "        if random_demand < 0:\n",
        "            random_demand = 0\n",
        "\n",
        "        random_demand = np.round(random_demand)\n",
        "        demand_hist.append(random_demand)\n",
        "\n",
        "plt.hist(demand_hist)"
      ],
      "metadata": {
        "colab": {
          "base_uri": "https://localhost:8080/",
          "height": 484
        },
        "id": "-VZMfKZ3xMtJ",
        "outputId": "0f0ad66a-b99f-47cc-835b-d0b4557b9b05"
      },
      "execution_count": null,
      "outputs": [
        {
          "output_type": "execute_result",
          "data": {
            "text/plain": [
              "(array([24., 94., 96., 34., 20., 26., 24., 30., 10.,  6.]),\n",
              " array([ 0. ,  1.7,  3.4,  5.1,  6.8,  8.5, 10.2, 11.9, 13.6, 15.3, 17. ]),\n",
              " <BarContainer object of 10 artists>)"
            ]
          },
          "metadata": {},
          "execution_count": 3
        },
        {
          "output_type": "display_data",
          "data": {
            "text/plain": [
              "<Figure size 640x480 with 1 Axes>"
            ],
            "image/png": "[encoded data removed]"
          },
          "metadata": {}
        }
      ]
    },
    {
      "cell_type": "markdown",
      "source": [
        "Definition of a class that determines the enviroment conditions of the inventory.\n",
        "\n",
        "Source: https://kunalbharadkar.medium.com/reinforcement-learning-on-supply-chain-management-718be44ae8d2\n",
        "\n",
        "Source2: https://towardsdatascience.com/a-reinforcement-learning-based-inventory-control-policy-for-retailers-ac35bc592278"
      ],
      "metadata": {
        "id": "GJ_3eZt9FRFS"
      }
    },
    {
      "cell_type": "code",
      "source": [
        "import numpy as np\n",
        "import gymnasium as gym\n",
        "\n",
        "\n",
        "class InventoryEnvObservation(gym.Env):\n",
        "\n",
        "\n",
        "  def __init__(self, demand_records):\n",
        "    \"\"\"\n",
        "    Init function for the inventory observation enviroment.\n",
        "    \"\"\"\n",
        "    self.n_period = len(demand_records) # Record of demands\n",
        "    self.current_period = 1 #\n",
        "    self.day_of_week = 0 # Current day of the week\n",
        "    self.inv_level = 25 # Level of the inventary\n",
        "    self.inv_pos = 25 # Position of the inventary\n",
        "    self.capacity = 50 # Total capacity of the inventary\n",
        "    self.holding_cost = 3 # Cost of holding an item in the inventary\n",
        "    self.unit_price = 30 # Price of the product\n",
        "    self.fixed_order_cost = 50 # Fixed cost to attemp an order\n",
        "    self.variable_order_cost = 10 # Variable cost to attemp an order\n",
        "    self.lead_time = 2 # Lead time to attemp an order\n",
        "    self.order_arrival_list = [] # Variable that stores the orders list\n",
        "    self.demand_list = demand_records\n",
        "    self.state = np.array([self.inv_pos] +\n",
        "                          self.convert_day_of_week(self.day_of_week))\n",
        "    self.state_list = []\n",
        "    self.state_list.append(self.state)\n",
        "    self.action_list = []\n",
        "    self.reward_list = []\n",
        "\n",
        "\n",
        "  def reset(self):\n",
        "    \"\"\"\n",
        "    Reset function for the enviroment.\n",
        "    \"\"\"\n",
        "    self.state_list = []\n",
        "    self.action_list = []\n",
        "    self.reward_list = []\n",
        "    self.inv_level = 25\n",
        "    self.inv_pos = 25\n",
        "    self.current_period = 1\n",
        "    self.day_of_week = 0\n",
        "    self.state = np.array([self.inv_pos] +\n",
        "                          self.convert_day_of_week(self.day_of_week))\n",
        "    self.state_list.append(self.state)\n",
        "    self.order_arrival_list = []\n",
        "\n",
        "    return self.state\n",
        "\n",
        "\n",
        "  def step(self, action):\n",
        "    \"\"\"\n",
        "    Given an action, step function for the enviroment.\n",
        "    \"\"\"\n",
        "    if action > 0:\n",
        "        y = 1\n",
        "        self.order_arrival_list.append([self.current_period +\n",
        "                                        self.lead_time, action])\n",
        "    else:\n",
        "        y = 0\n",
        "\n",
        "    if len(self.order_arrival_list) > 0:\n",
        "        if self.current_period == self.order_arrival_list[0][0]:\n",
        "            self.inv_level = min(self.capacity, self.inv_level +\n",
        "                                 self.order_arrival_list[0][1])\n",
        "            self.order_arrival_list.pop(0)\n",
        "\n",
        "    demand = self.demand_list[self.current_period-1]\n",
        "    units_sold = demand if demand <= self.inv_level else self.inv_level\n",
        "    reward = units_sold*self.unit_price-self.holding_cost*self.inv_level - y*self.fixed_order_cost - action*self.variable_order_cost\n",
        "    self.inv_level = max(0,self.inv_level-demand)\n",
        "    self.inv_pos = self.inv_level\n",
        "\n",
        "    if len(self.order_arrival_list) > 0:\n",
        "        for i in range(len(self.order_arrival_list)):\n",
        "            self.inv_pos += self.order_arrival_list[i][1]\n",
        "\n",
        "    self.day_of_week = (self.day_of_week+1)%7\n",
        "    self.state = np.array([self.inv_pos] +\n",
        "                          self.convert_day_of_week(self.day_of_week))\n",
        "    self.current_period += 1\n",
        "    self.state_list.append(self.state)\n",
        "    self.action_list.append(action)\n",
        "    self.reward_list.append(reward)\n",
        "\n",
        "    if self.current_period > self.n_period:\n",
        "        terminate = True\n",
        "    else:\n",
        "        terminate = False\n",
        "\n",
        "    return self.state, reward, terminate\n",
        "\n",
        "\n",
        "  def convert_day_of_week(self, d):\n",
        "    \"\"\"\n",
        "    Day of the week conversor given a number as parameter\n",
        "    \"\"\"\n",
        "    if d == 0:\n",
        "        return [0, 0, 0, 0, 0, 0]\n",
        "    if d == 1:\n",
        "        return [1, 0, 0, 0, 0, 0]\n",
        "    if d == 2:\n",
        "        return [0, 1, 0, 0, 0, 0]\n",
        "    if d == 3:\n",
        "        return [0, 0, 1, 0, 0, 0]\n",
        "    if d == 4:\n",
        "        return [0, 0, 0, 1, 0, 0]\n",
        "    if d == 5:\n",
        "        return [0, 0, 0, 0, 1, 0]\n",
        "    if d == 6:\n",
        "        return [0, 0, 0, 0, 0, 1]\n",
        "\n"
      ],
      "metadata": {
        "id": "Nbh5dBXJE8B3"
      },
      "execution_count": null,
      "outputs": []
    },
    {
      "cell_type": "markdown",
      "source": [
        "Next, lets build the DQN.\n",
        "\n",
        "Source: https://towardsdatascience.com/a-reinforcement-learning-based-inventory-control-policy-for-retailers-ac35bc592278"
      ],
      "metadata": {
        "id": "H6Oit2PRwkCa"
      }
    },
    {
      "cell_type": "code",
      "source": [
        "import torch\n",
        "import torch.nn as nn\n",
        "import torch.nn.functional as F\n",
        "\n",
        "class QNetwork(nn.Module):\n",
        "    \"\"\" Actor (Policy) Model.\"\"\"\n",
        "    def __init__(self, state_size, action_size, seed, fc1_unit=128,\n",
        "                 fc2_unit = 128):\n",
        "        \"\"\"\n",
        "        Initialize parameters and build model.\n",
        "        Params\n",
        "        =======\n",
        "            state_size (int): Dimension of each state\n",
        "            action_size (int): Dimension of each action\n",
        "            seed (int): Random seed\n",
        "            fc1_unit (int): Number of nodes in first hidden layer\n",
        "            fc2_unit (int): Number of nodes in second hidden layer\n",
        "        \"\"\"\n",
        "        super(QNetwork,self).__init__() ## calls __init__ method of nn.Module class\n",
        "        self.seed = torch.manual_seed(seed)\n",
        "        self.fc1= nn.Linear(state_size,fc1_unit)\n",
        "        self.fc2 = nn.Linear(fc1_unit,fc2_unit)\n",
        "        self.fc3 = nn.Linear(fc2_unit,action_size)\n",
        "\n",
        "    def forward(self,x):\n",
        "        # x = state\n",
        "        \"\"\"\n",
        "        Build a network that maps state -> action values.\n",
        "        \"\"\"\n",
        "        x = F.relu(self.fc1(x))\n",
        "        x = F.relu(self.fc2(x))\n",
        "        return self.fc3(x)"
      ],
      "metadata": {
        "id": "L0Fm-8wGwnGr"
      },
      "execution_count": null,
      "outputs": []
    },
    {
      "cell_type": "markdown",
      "source": [
        "Following the DQN building, there is the Agent definition."
      ],
      "metadata": {
        "id": "M6UwmXft0sxT"
      }
    },
    {
      "cell_type": "code",
      "source": [
        "import random\n",
        "from collections import namedtuple, deque\n",
        "\n",
        "##Importing the model (function approximator for Q-table)\n",
        "# from model import QNetwork\n",
        "\n",
        "import torch\n",
        "import torch.nn.functional as F\n",
        "import torch.optim as optim\n",
        "from torch.optim import lr_scheduler\n",
        "\n",
        "BUFFER_SIZE = int(5*1e5)  #replay buffer size\n",
        "BATCH_SIZE = 128 # minibatch size\n",
        "GAMMA = 0.99 # discount factor\n",
        "TAU = 1e-3 # for soft update of target parameters\n",
        "LR = 1e-4 # learning rate\n",
        "UPDATE_EVERY = 4 # how often to update the network\n",
        "\n",
        "device = torch.device(\"cuda:0\" if torch.cuda.is_available() else \"cpu\")\n",
        "\n",
        "class Agent():\n",
        "    \"\"\"Interacts with and learns form environment.\"\"\"\n",
        "\n",
        "    def __init__(self, state_size, action_size, seed):\n",
        "        \"\"\"Initialize an Agent object.\n",
        "\n",
        "        Params\n",
        "        =======\n",
        "            state_size (int): dimension of each state\n",
        "            action_size (int): dimension of each action\n",
        "            seed (int): random seed\n",
        "        \"\"\"\n",
        "\n",
        "        self.state_size = state_size\n",
        "        self.action_size = action_size\n",
        "        self.seed = random.seed(seed)\n",
        "\n",
        "\n",
        "        #Q- Network\n",
        "        self.qnetwork_local = QNetwork(state_size, action_size, seed).to(device)\n",
        "        self.qnetwork_target = QNetwork(state_size, action_size, seed).to(device)\n",
        "\n",
        "        self.optimizer = optim.Adam(self.qnetwork_local.parameters(),lr=LR)\n",
        "\n",
        "        # Replay memory\n",
        "        self.memory = ReplayBuffer(action_size, BUFFER_SIZE,BATCH_SIZE,seed)\n",
        "        # Initialize time step (for updating every UPDATE_EVERY steps)\n",
        "        self.t_step = 0\n",
        "\n",
        "    def step(self, state, action, reward, next_step, done):\n",
        "        # Save experience in replay memory\n",
        "        self.memory.add(state, action, reward, next_step, done)\n",
        "\n",
        "        # Learn every UPDATE_EVERY time steps.\n",
        "        self.t_step = (self.t_step+1)% UPDATE_EVERY\n",
        "        if self.t_step == 0:\n",
        "            # If enough samples are available in memory, get radom subset and learn\n",
        "\n",
        "            if len(self.memory)>BATCH_SIZE:\n",
        "                experience = self.memory.sample()\n",
        "                self.learn(experience, GAMMA)\n",
        "\n",
        "    def act(self, state, eps = 0):\n",
        "        \"\"\"Returns action for given state as per current policy\n",
        "        Params\n",
        "        =======\n",
        "            state (array_like): current state\n",
        "            eps (float): epsilon, for epsilon-greedy action selection\n",
        "        \"\"\"\n",
        "        state = torch.from_numpy(state).float().unsqueeze(0).to(device)\n",
        "        self.qnetwork_local.eval()\n",
        "        with torch.no_grad():\n",
        "            action_values = self.qnetwork_local(state)\n",
        "        self.qnetwork_local.train()\n",
        "\n",
        "        #Epsilon -greedy action selction\n",
        "        if random.random() > eps:\n",
        "            return np.argmax(action_values.cpu().data.numpy())\n",
        "        else:\n",
        "            return random.choice(np.arange(self.action_size))\n",
        "\n",
        "    def learn(self, experiences, gamma):\n",
        "        \"\"\"Update value parameters using given batch of experience tuples.\n",
        "        Params\n",
        "        =======\n",
        "            experiences (Tuple[torch.Variable]): tuple of (s, a, r, s', done) tuples\n",
        "            gamma (float): discount factor\n",
        "        \"\"\"\n",
        "        states, actions, rewards, next_states, dones = experiences\n",
        "        ## TODO: compute and minimize the loss\n",
        "        criterion = torch.nn.MSELoss()\n",
        "        # Local model is one which we need to train so it's in training mode\n",
        "        self.qnetwork_local.train()\n",
        "        # Target model is one with which we need to get our target so it's in evaluation mode\n",
        "        # So that when we do a forward pass with target model it does not calculate gradient.\n",
        "        # We will update target model weights with soft_update function\n",
        "        self.qnetwork_target.eval()\n",
        "        #shape of output from the model (batch_size,action_dim) = (64,4)\n",
        "\n",
        "        predicted_targets = self.qnetwork_local(states).gather(1,actions)\n",
        "        with torch.no_grad():\n",
        "            labels_next = self.qnetwork_target(next_states).detach().max(1)[0].unsqueeze(1)\n",
        "\n",
        "        # .detach() ->  Returns a new Tensor, detached from the current graph.\n",
        "        labels = rewards + (gamma* labels_next*(1-dones))\n",
        "        loss = criterion(predicted_targets,labels).to(device)\n",
        "        self.optimizer.zero_grad()\n",
        "        loss.backward()\n",
        "        self.optimizer.step()\n",
        "\n",
        "        # ------------------- update target network ------------------- #\n",
        "        self.soft_update(self.qnetwork_local,self.qnetwork_target,TAU)\n",
        "\n",
        "    def soft_update(self, local_model, target_model, tau):\n",
        "        \"\"\"Soft update model parameters.\n",
        "        θ_target = τ*θ_local + (1 - τ)*θ_target\n",
        "        Params\n",
        "        =======\n",
        "            local model (PyTorch model): weights will be copied from\n",
        "            target model (PyTorch model): weights will be copied to\n",
        "            tau (float): interpolation parameter\n",
        "        \"\"\"\n",
        "        for target_param, local_param in zip(target_model.parameters(),\n",
        "                                           local_model.parameters()):\n",
        "            target_param.data.copy_(tau*local_param.data + (1-tau)*target_param.data)\n",
        "\n",
        "class ReplayBuffer:\n",
        "    \"\"\"Fixed -size buffe to store experience tuples.\"\"\"\n",
        "\n",
        "    def __init__(self, action_size, buffer_size, batch_size, seed):\n",
        "        \"\"\"Initialize a ReplayBuffer object.\n",
        "\n",
        "        Params\n",
        "        ======\n",
        "            action_size (int): dimension of each action\n",
        "            buffer_size (int): maximum size of buffer\n",
        "            batch_size (int): size of each training batch\n",
        "            seed (int): random seed\n",
        "        \"\"\"\n",
        "\n",
        "        self.action_size = action_size\n",
        "        self.memory = deque(maxlen=buffer_size)\n",
        "        self.batch_size = batch_size\n",
        "        self.experiences = namedtuple(\"Experience\", field_names=[\"state\",\n",
        "                                                               \"action\",\n",
        "                                                               \"reward\",\n",
        "                                                               \"next_state\",\n",
        "                                                               \"done\"])\n",
        "        self.seed = random.seed(seed)\n",
        "\n",
        "    def add(self,state, action, reward, next_state,done):\n",
        "        \"\"\"Add a new experience to memory.\"\"\"\n",
        "        e = self.experiences(state,action,reward,next_state,done)\n",
        "        self.memory.append(e)\n",
        "\n",
        "    def sample(self):\n",
        "        \"\"\"Randomly sample a batch of experiences from memory\"\"\"\n",
        "\n",
        "        experiences = random.sample(self.memory,k=self.batch_size)\n",
        "\n",
        "        states = torch.from_numpy(np.vstack([e.state for e in experiences if e is not None])).float().to(device)\n",
        "        actions = torch.from_numpy(np.vstack([e.action for e in experiences if e is not None])).long().to(device)\n",
        "        rewards = torch.from_numpy(np.vstack([e.reward for e in experiences if e is not None])).float().to(device)\n",
        "        next_states = torch.from_numpy(np.vstack([e.next_state for e in experiences if e is not None])).float().to(device)\n",
        "        dones = torch.from_numpy(np.vstack([e.done for e in experiences if e is not None]).astype(np.uint8)).float().to(device)\n",
        "\n",
        "        return (states,actions,rewards,next_states,dones)\n",
        "\n",
        "    def __len__(self):\n",
        "        \"\"\"Return the current size of internal memory.\"\"\"\n",
        "        return len(self.memory)"
      ],
      "metadata": {
        "id": "L0LSvjFP0oHG"
      },
      "execution_count": null,
      "outputs": []
    },
    {
      "cell_type": "markdown",
      "source": [
        "Finally, train the DQN model. Here the size of the action space is 21. From 0 to 20."
      ],
      "metadata": {
        "id": "UFKE7D2awxAL"
      }
    },
    {
      "cell_type": "code",
      "source": [
        "%%time\n",
        "\n",
        "# Definition of an agent for the current model\n",
        "agent = Agent(state_size=7,action_size=21,seed=0)\n",
        "\n",
        "desired_path = './models'\n",
        "\n",
        "def dqn(env, n_episodes= 1000, max_t = 10000, eps_start=1.0, eps_end = 0.01,\n",
        "       eps_decay=0.995):\n",
        "    \"\"\"Deep Q-Learning\n",
        "\n",
        "    Params\n",
        "    ======\n",
        "        n_episodes (int): maximum number of training epsiodes\n",
        "        max_t (int): maximum number of timesteps per episode\n",
        "        eps_start (float): starting value of epsilon, for epsilon-greedy action selection\n",
        "        eps_end (float): minimum value of epsilon\n",
        "        eps_decay (float): mutiplicative factor (per episode) for decreasing epsilon\n",
        "\n",
        "    \"\"\"\n",
        "    scores = [] # list containing score from each episode\n",
        "    eps = eps_start\n",
        "\n",
        "    for i_episode in range(1, n_episodes+1):\n",
        "        state = env.reset()\n",
        "        score = 0\n",
        "\n",
        "        for t in range(max_t):\n",
        "            action = agent.act(state,eps)\n",
        "            next_state,reward,done = env.step(action)\n",
        "            agent.step(state,action,reward,next_state,done)\n",
        "            ## above step decides whether we will train(learn) the network\n",
        "            ## actor (local_qnetwork) or we will fill the replay buffer\n",
        "            ## if len replay buffer is equal to the batch size then we will\n",
        "            ## train the network or otherwise we will add experience tuple in our\n",
        "            ## replay buffer.\n",
        "            state = next_state\n",
        "            score += reward\n",
        "\n",
        "            if done:\n",
        "                if i_episode % 100 == 0:\n",
        "                  # Print the score each 100 episodes\n",
        "                  print('episode' + str(i_episode) + ': ', score)\n",
        "\n",
        "                scores.append(score)\n",
        "                break\n",
        "\n",
        "        eps = max(eps*eps_decay,eps_end)## decrease the epsilon\n",
        "\n",
        "    return scores\n",
        "\n",
        "env = InventoryEnvObservation(demand_hist)\n",
        "scores= dqn(env, n_episodes=500)\n",
        "\n",
        "plt.plot(np.arange(len(scores)),scores)\n",
        "plt.ylabel('Reward')\n",
        "plt.xlabel('Epsiodes')\n",
        "plt.show()\n",
        "\n",
        "# Save the model in the defined path\n",
        "if desired_path:\n",
        "  try:\n",
        "    torch.save(agent.qnetwork_local.state_dict(), desired_path)\n",
        "    print('The model has been saved in: ' + desired_path)\n",
        "  except:\n",
        "    print(\"The given path is not available. Retrain and define a path for saving.\")\n",
        "else:\n",
        "  print('The model has not been saved. Retrain and define a path for saving.')"
      ],
      "metadata": {
        "colab": {
          "base_uri": "https://localhost:8080/",
          "height": 588
        },
        "id": "C_OAMVr9wwc4",
        "outputId": "d474e5f6-71c8-4dc7-dccd-7c9358c554e4"
      },
      "execution_count": null,
      "outputs": [
        {
          "output_type": "stream",
          "name": "stdout",
          "text": [
            "episode100:  -4741.0\n",
            "episode200:  8252.0\n",
            "episode300:  14616.0\n",
            "episode400:  19259.0\n",
            "episode500:  19461.0\n"
          ]
        },
        {
          "output_type": "display_data",
          "data": {
            "text/plain": [
              "<Figure size 640x480 with 1 Axes>"
            ],
            "image/png": "[encoded data removed]"
          },
          "metadata": {}
        },
        {
          "output_type": "stream",
          "name": "stdout",
          "text": [
            "The model has been saved in: ./models\n",
            "CPU times: user 4min 56s, sys: 1.73 s, total: 4min 58s\n",
            "Wall time: 5min 3s\n"
          ]
        }
      ]
    },
    {
      "cell_type": "markdown",
      "source": [
        "The above plot represents the reward obtained form the model. It is seen that the reward improves until the number of episodes grows up."
      ],
      "metadata": {
        "id": "x8IvHf1H8oh8"
      }
    },
    {
      "cell_type": "markdown",
      "source": [
        "# 2. Testing the DQN"
      ],
      "metadata": {
        "id": "Ggnz5QRj9Ny1"
      }
    },
    {
      "cell_type": "markdown",
      "source": [
        "First, some data are created, so it is possible to test the DQN performance in different situations"
      ],
      "metadata": {
        "id": "NFbAcXjA9Yve"
      }
    },
    {
      "cell_type": "code",
      "source": [
        "demand_test = []\n",
        "\n",
        "for k in range(100,200):\n",
        "  np.random.seed(k)\n",
        "  demand_future = []\n",
        "\n",
        "  for i in range(52):\n",
        "    for j in range(4):\n",
        "      random_demand = np.random.normal(3, 1.5)\n",
        "\n",
        "      if random_demand < 0:\n",
        "        random_demand = 0\n",
        "      random_demand = np.round(random_demand)\n",
        "      demand_future.append(random_demand)\n",
        "  random_demand = np.random.normal(6, 1)\n",
        "\n",
        "  if random_demand < 0:\n",
        "    random_demand = 0\n",
        "  random_demand = np.round(random_demand)\n",
        "  demand_future.append(random_demand)\n",
        "\n",
        "  for j in range(2):\n",
        "    random_demand = np.random.normal(12, 2)\n",
        "\n",
        "    if random_demand < 0:\n",
        "      random_demand = 0\n",
        "\n",
        "    random_demand = np.round(random_demand)\n",
        "    demand_future.append(random_demand)\n",
        "\n",
        "  demand_test.append(demand_future)"
      ],
      "metadata": {
        "id": "VQEV_Q5t9R2Z"
      },
      "execution_count": null,
      "outputs": []
    },
    {
      "cell_type": "code",
      "source": [
        "model = QNetwork(state_size=7,action_size=21,seed=0)\n",
        "model.load_state_dict(torch.load(desired_path))\n",
        "model.eval()\n",
        "\n",
        "profit_RL = []\n",
        "actions_list = []\n",
        "invs_list = []\n",
        "\n",
        "for demand in demand_test:\n",
        "    env = InventoryEnvObservation(demand)\n",
        "    env.reset()\n",
        "    profit = 0\n",
        "    actions = []\n",
        "    invs = []\n",
        "    done = False\n",
        "    state = env.state\n",
        "\n",
        "    while not done:\n",
        "        state = torch.from_numpy(state).float().unsqueeze(0).to(device)\n",
        "\n",
        "        with torch.no_grad():\n",
        "            action_values = model(state)\n",
        "\n",
        "        action = np.argmax(action_values.cpu().data.numpy())\n",
        "        actions.append(action)\n",
        "        next_state, reward, done = env.step(action)\n",
        "        state = next_state\n",
        "        invs.append(env.inv_level)\n",
        "        profit += reward\n",
        "\n",
        "    actions_list.append(actions)\n",
        "    invs_list.append(invs)\n",
        "    profit_RL.append(profit)\n",
        "\n",
        "RL_mean = np.mean(profit_RL)"
      ],
      "metadata": {
        "id": "50qBb_bF8oBt"
      },
      "execution_count": null,
      "outputs": []
    }
  ]
}