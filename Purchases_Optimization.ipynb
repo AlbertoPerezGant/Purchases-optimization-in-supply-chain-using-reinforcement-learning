{
  "nbformat": 4,
  "nbformat_minor": 0,
  "metadata": {
    "colab": {
      "provenance": [],
      "include_colab_link": true
    },
    "kernelspec": {
      "name": "python3",
      "display_name": "Python 3"
    },
    "language_info": {
      "name": "python"
    }
  },
  "cells": [
    {
      "cell_type": "markdown",
      "metadata": {
        "id": "view-in-github",
        "colab_type": "text"
      },
      "source": [
        "<a href=\"https://colab.research.google.com/github/AlbertoPerezGant/Purchases-optimization-in-supply-chain-using-reinforcement-learning/blob/main/Purchases_Optimization.ipynb\" target=\"_parent\"><img src=\"https://colab.research.google.com/assets/colab-badge.svg\" alt=\"Open In Colab\"/></a>"
      ]
    },
    {
      "cell_type": "markdown",
      "source": [
        "# 1. Introduction: Purchases optimization in inventory management."
      ],
      "metadata": {
        "id": "fc5mktu5EUS4"
      }
    },
    {
      "cell_type": "code",
      "source": [
        "from google.colab import drive\n",
        "drive.mount('/content/drive')"
      ],
      "metadata": {
        "id": "-NcMXR93Iy45",
        "colab": {
          "base_uri": "https://localhost:8080/"
        },
        "outputId": "8b51e601-3e03-4bca-e5d3-b8ba6abb8560"
      },
      "execution_count": null,
      "outputs": [
        {
          "output_type": "stream",
          "name": "stdout",
          "text": [
            "Mounted at /content/drive\n"
          ]
        }
      ]
    },
    {
      "cell_type": "markdown",
      "source": [
        "In first place, libraries as gymnasium and stable_baseline3 are installed.\n",
        "\n",
        "> Añadir blockquote\n",
        "\n"
      ],
      "metadata": {
        "id": "6aDudOaUEjE4"
      }
    },
    {
      "cell_type": "code",
      "execution_count": null,
      "metadata": {
        "id": "mmX7b7F0D0oz"
      },
      "outputs": [],
      "source": [
        "!pip install gymnasium==0.29.1\n",
        "!pip install stable_baselines3==2.2.1"
      ]
    },
    {
      "cell_type": "markdown",
      "source": [
        "# 2. Enviroment"
      ],
      "metadata": {
        "id": "iWXR0WY1E9EE"
      }
    },
    {
      "cell_type": "markdown",
      "source": [
        "Definition of a class that determines the enviroment conditions of the inventory.\n",
        "\n",
        "Source: https://kunalbharadkar.medium.com/reinforcement-learning-on-supply-chain-management-718be44ae8d2\n",
        "\n",
        "Source2: https://towardsdatascience.com/a-reinforcement-learning-based-inventory-control-policy-for-retailers-ac35bc592278"
      ],
      "metadata": {
        "id": "GJ_3eZt9FRFS"
      }
    },
    {
      "cell_type": "code",
      "source": [
        "import numpy as np\n",
        "\n",
        "\n",
        "class InventoryEnvObservation(gym.Env):\n",
        "\n",
        "\n",
        "  def __init__(self, demand_records):\n",
        "    \"\"\"\n",
        "    Init function for the inventory observation enviroment.\n",
        "    \"\"\"\n",
        "    self.n_period = len(demand_records)\n",
        "    self.current_period = 1\n",
        "    self.day_of_week = 0\n",
        "    self.inv_level = 25\n",
        "    self.inv_pos = 25\n",
        "    self.capacity = 50\n",
        "    self.holding_cost = 3\n",
        "    self.unit_price = 30\n",
        "    self.fixed_order_cost = 50\n",
        "    self.variable_order_cost = 10\n",
        "    self.lead_time = 2\n",
        "    self.order_arrival_list = []\n",
        "    self.demand_list = demand_records\n",
        "    self.state = np.array([self.inv_pos] +\n",
        "                          self.convert_day_of_week(self.day_of_week))\n",
        "    self.state_list = []\n",
        "    self.state_list.append(self.state)\n",
        "    self.action_list = []\n",
        "    self.reward_list = []\n",
        "\n",
        "\n",
        "  def reset(self):\n",
        "    \"\"\"\n",
        "    Reset function for the enviroment.\n",
        "    \"\"\"\n",
        "    self.state_list = []\n",
        "    self.action_list = []\n",
        "    self.reward_list = []\n",
        "    self.inv_level = 25\n",
        "    self.inv_pos = 25\n",
        "    self.current_period = 1\n",
        "    self.day_of_week = 0\n",
        "    self.state = np.array([self.inv_pos] + self.convert_day_of_week(self.day_of_week))\n",
        "    self.state_list.append(self.state)\n",
        "    self.order_arrival_list = []\n",
        "    return self.state\n",
        "\n",
        "\n",
        "  def step(self, action):\n",
        "    \"\"\"\n",
        "    Given an action, step function for the enviroment.\n",
        "    \"\"\"\n",
        "    if action > 0:\n",
        "        y = 1\n",
        "        self.order_arrival_list.append([self.current_period+self.lead_time, action])\n",
        "    else:\n",
        "        y = 0\n",
        "    if len(self.order_arrival_list) > 0:\n",
        "        if self.current_period == self.order_arrival_list[0][0]:\n",
        "            self.inv_level = min(self.capacity, self.inv_level + self.order_arrival_list[0][1])\n",
        "            self.order_arrival_list.pop(0)\n",
        "    demand = self.demand_list[self.current_period-1]\n",
        "    units_sold = demand if demand <= self.inv_level else self.inv_level\n",
        "    reward = units_sold*self.unit_price-self.holding_cost*self.inv_level - y*self.fixed_order_cost \\\n",
        "              -action*self.variable_order_cost\n",
        "    self.inv_level = max(0,self.inv_level-demand)\n",
        "    self.inv_pos = self.inv_level\n",
        "    if len(self.order_arrival_list) > 0:\n",
        "        for i in range(len(self.order_arrival_list)):\n",
        "            self.inv_pos += self.order_arrival_list[i][1]\n",
        "    self.day_of_week = (self.day_of_week+1)%7\n",
        "    self.state = np.array([self.inv_pos] +self.convert_day_of_week(self.day_of_week))\n",
        "    self.current_period += 1\n",
        "    self.state_list.append(self.state)\n",
        "    self.action_list.append(action)\n",
        "    self.reward_list.append(reward)\n",
        "    if self.current_period > self.n_period:\n",
        "        terminate = True\n",
        "    else:\n",
        "        terminate = False\n",
        "    return self.state, reward, terminate\n",
        "\n",
        "\n",
        "  def convert_day_of_week(self, d):\n",
        "    \"\"\"\n",
        "    Day of the week conversor given a number as parameter\n",
        "    \"\"\"\n",
        "      if d == 0:\n",
        "          return [0, 0, 0, 0, 0, 0]\n",
        "      if d == 1:\n",
        "          return [1, 0, 0, 0, 0, 0]\n",
        "      if d == 2:\n",
        "          return [0, 1, 0, 0, 0, 0]\n",
        "      if d == 3:\n",
        "          return [0, 0, 1, 0, 0, 0]\n",
        "      if d == 4:\n",
        "          return [0, 0, 0, 1, 0, 0]\n",
        "      if d == 5:\n",
        "          return [0, 0, 0, 0, 1, 0]\n",
        "      if d == 6:\n",
        "          return [0, 0, 0, 0, 0, 1]"
      ],
      "metadata": {
        "id": "Nbh5dBXJE8B3"
      },
      "execution_count": null,
      "outputs": []
    }
  ]
}